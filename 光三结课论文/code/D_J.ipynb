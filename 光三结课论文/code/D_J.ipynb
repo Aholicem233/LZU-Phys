{
 "cells": [
  {
   "cell_type": "code",
   "execution_count": 12,
   "id": "adab01e9-d65b-4bf9-a8e5-d96e9295a5df",
   "metadata": {},
   "outputs": [
    {
     "data": {
      "image/png": "[encoded data removed]",
      "text/plain": [
       "<Figure size 640x480 with 1 Axes>"
      ]
     },
     "execution_count": 12,
     "metadata": {},
     "output_type": "execute_result"
    }
   ],
   "source": [
    "def dj_oracle(case, n):\n",
    "    oracle_qc = QuantumCircuit(n+1)\n",
    "    # 平衡函数\n",
    "    if case == \"balanced\":\n",
    "        # [1,2**n)间的随机整数 b\n",
    "        b = np.random.randint(1, 2**n)\n",
    "        # 得到 b 对应的二进制字符串\n",
    "        b_str = format(b, '0'+str(n)+'b')\n",
    "        # 若 b_str[qubit] 为 '1'，则在 q[qubit] 上添加一个 X 门\n",
    "        for qubit in range(len(b_str)):\n",
    "            if b_str[qubit] == '1':\n",
    "                oracle_qc.x(qubit)\n",
    "        # 每个量子比特上添加 CNOT 门, q[n] 为目标量子比特\n",
    "        for qubit in range(n):\n",
    "            oracle_qc.cx(qubit, n)\n",
    "        # 若 b_str[qubit] 为 '1'，则在 q[qubit] 上添加一个 X 门\n",
    "        for qubit in range(len(b_str)):\n",
    "            if b_str[qubit] == '1':\n",
    "                oracle_qc.x(qubit)\n",
    "\n",
    "    # 常值函数\n",
    "    if case == \"constant\":\n",
    "        # 取随机整数 0 或 1, 若为 1, 则在 q[n] 上添加一个 X 门\n",
    "        output = np.random.randint(2)\n",
    "        if output == 1:\n",
    "            oracle_qc.x(n)\n",
    "\n",
    "    oracle_gate = oracle_qc.to_gate()\n",
    "    # 将量子线路 oracle_qc 封装为自定义门\n",
    "    oracle_gate.name = \"Oracle\"\n",
    "    return oracle_gate\n",
    "\n",
    "\n",
    "def dj_algorithm(oracle, n):\n",
    "    dj_circuit = QuantumCircuit(n+1, n)\n",
    "    # 设置输出量子比特\n",
    "    dj_circuit.x(n)\n",
    "    dj_circuit.h(n)\n",
    "    # 设置输入寄存器\n",
    "    for qubit in range(n):\n",
    "        dj_circuit.h(qubit)\n",
    "    # 添加 Oracle 门\n",
    "    dj_circuit.append(oracle, range(n+1))\n",
    "    # 输入寄存器各量子比特上添加 H 门\n",
    "    for qubit in range(n):\n",
    "        dj_circuit.h(qubit)\n",
    "    # 测量输入寄存器\n",
    "    for i in range(n):\n",
    "        dj_circuit.measure(i, i)\n",
    "    return dj_circuit\n",
    "\n",
    "\n",
    "\n",
    "# 库函数输入\n",
    "import numpy as np\n",
    "from qiskit import assemble\n",
    "from qiskit_aer import Aer\n",
    "from qiskit import QuantumCircuit, transpile\n",
    "from qiskit.visualization import plot_histogram\n",
    "\n",
    "# 创建 Oracle 自定义门（常值函数），实现 Deutsch-Jozsa 算法的量子线路\n",
    "n = 4\n",
    "oracle_gate = dj_oracle('balanced', n)\n",
    "# 测试平衡函数时，首参为 'balanced'\n",
    "\n",
    "dj_circuit = dj_algorithm(oracle_gate, n)\n",
    "#dj_circuit.draw(output='mpl',filename='qc3.png')#获得png图片\n",
    "\n",
    "# 选择模拟器\n",
    "simu = Aer.get_backend('aer_simulator')\n",
    "\n",
    "# 编译电路\n",
    "transpiled_dj_circuit = transpile(dj_circuit, simu)\n",
    "\n",
    "# 运行电路并获取结果\n",
    "results = simu.run(transpiled_dj_circuit).result()\n",
    "\n",
    "# 获取测量结果\n",
    "answer = results.get_counts(dj_circuit)\n",
    "\n",
    "# 绘制直方图\n",
    "out = plot_histogram(answer)\n",
    "out.savefig('balanced')\n",
    "out"
   ]
  },
  {
   "cell_type": "code",
   "execution_count": null,
   "id": "bc8c924e-0b36-44da-89ed-a40f1c4e85b5",
   "metadata": {},
   "outputs": [],
   "source": []
  }
 ],
 "metadata": {
  "kernelspec": {
   "display_name": "pykernel",
   "language": "python",
   "name": "pykernel"
  },
  "language_info": {
   "codemirror_mode": {
    "name": "ipython",
    "version": 3
   },
   "file_extension": ".py",
   "mimetype": "text/x-python",
   "name": "python",
   "nbconvert_exporter": "python",
   "pygments_lexer": "ipython3",
   "version": "3.8.20"
  }
 },
 "nbformat": 4,
 "nbformat_minor": 5
}
