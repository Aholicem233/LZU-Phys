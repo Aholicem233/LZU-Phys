{
 "cells": [
  {
   "cell_type": "code",
   "execution_count": null,
   "id": "cb18be21-5b18-4323-bf98-2b6c42f5e9c1",
   "metadata": {},
   "outputs": [],
   "source": [
    "def dj_oracle(case,n)#定义函数，输入case字符串,n为输入orcale的量子位数\n",
    "    ora_qc=QuantumnCircuit(n+1)"
   ]
  }
 ],
 "metadata": {
  "kernelspec": {
   "display_name": "Python 3 (ipykernel)",
   "language": "python",
   "name": "python3"
  },
  "language_info": {
   "codemirror_mode": {
    "name": "ipython",
    "version": 3
   },
   "file_extension": ".py",
   "mimetype": "text/x-python",
   "name": "python",
   "nbconvert_exporter": "python",
   "pygments_lexer": "ipython3",
   "version": "3.12.7"
  }
 },
 "nbformat": 4,
 "nbformat_minor": 5
}
